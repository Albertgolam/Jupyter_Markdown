{
 "cells": [
  {
   "cell_type": "markdown",
   "id": "a637d6e4",
   "metadata": {},
   "source": [
    "# **Nivell 1**"
   ]
  },
  {
   "attachments": {},
   "cell_type": "markdown",
   "id": "4b3fddd5",
   "metadata": {},
   "source": [
    "## *Exercici 1*\n",
    "\n",
    "**Instal·la el programa Anaconda amb Python 3, i Jupyter Notebook.**\n",
    "\n",
    "Per instal·lar Anaconda + Python + Jupyter Notebook he descarregat l'executable per Windows de la pàgina d'Anaconda i he seguit el procès d'instal·lació\n",
    "\n",
    "![anaconda.png](img/anaconda.png)"
   ]
  },
  {
   "cell_type": "markdown",
   "id": "e9e23b4e",
   "metadata": {},
   "source": [
    "## *Exercici 2 + Exercici 3*\n",
    "\n",
    "**Utilitzant Jupyter Notebook executa alguns càlculs senzills, a la vegada que et familiaritzes amb el llenguatge Markdown.**\n",
    "\n",
    "**Prova de crear títols, llistes, canviar l’estil de la lletra o afegir imatges dins del Notebook.**"
   ]
  },
  {
   "cell_type": "markdown",
   "id": "546c2258",
   "metadata": {},
   "source": [
    "### Creació de variables\n",
    "\n",
    "1. Una variable es crea en el mateix moment que li assignes un valor.\n",
    "2. No és necessari declarar les variables d'un tipus determinat. Fins i tot poden canviar de tipus després de ser creades\n",
    "3. La variable es crea utilitzant la sintaxis: **nom del variable** = **valor**\n",
    "\n",
    "*Exemples de creació de variable:*\n",
    "\n",
    "**x** = 5\n",
    "\n",
    "**nom** = \"Albert\"\n",
    "\n",
    "***"
   ]
  },
  {
   "cell_type": "markdown",
   "id": "771c14b0",
   "metadata": {},
   "source": [
    "### Operacions matemàtiques\n",
    "\n",
    "![arithmetic](img/arithmetic.png)\n",
    "\n",
    "*Font*: https://www.w3schools.com/python/python_operators.asp"
   ]
  },
  {
   "cell_type": "code",
   "execution_count": null,
   "id": "09d8a5f8",
   "metadata": {},
   "outputs": [],
   "source": [
    "# Exemples d'operacions matemàtiques\n",
    "\n",
    "# Declaració de variables\n",
    "num1 = 10\n",
    "num2 = 5\n",
    "\n",
    "# suma\n",
    "suma = num1 + num2\n",
    "\n",
    "# resta\n",
    "resta = num1 - num2\n",
    "\n",
    "# multiplicació\n",
    "multiplicacio = num1 * num2\n",
    "\n",
    "# divisió\n",
    "divisio = num1 / num2\n",
    "\n",
    "resultats = \"Suma: {}\\nResta: {}\\nMultiplicació: {}\\nDivisió: {}\"\n",
    "print(resultats.format(suma, resta, multiplicacio, divisio))"
   ]
  },
  {
   "cell_type": "markdown",
   "id": "7c9244bf",
   "metadata": {},
   "source": [
    "***\n",
    "### Transformar amb casting\n",
    "\n",
    "El *casting* s'utilitza quan volem canviar el tipus d'una variable. Per exemple, si una variable és de tipus **int** podem transforma-la en **str** utilitzant la tècnica de *casting* amb la funció **str()**\n",
    "\n",
    "![casting](img/casting.png)\n",
    "\n",
    "*Font*: https://www.w3schools.com/python/python_operators.asp"
   ]
  },
  {
   "cell_type": "code",
   "execution_count": null,
   "id": "2eb86c9b",
   "metadata": {},
   "outputs": [],
   "source": [
    "# Exemples de casting\n",
    "\n",
    "# Declarem una variable de tipus int\n",
    "integer = 5\n",
    "\n",
    "# Transformar a float\n",
    "float_cast = float(5)\n",
    "\n",
    "# Transformar a string\n",
    "string_cast = str(5)\n",
    "\n",
    "resultat = \"El tipus de la variable integer es: {} y el seu valor: {}\\\n",
    "\\nEl tipus de la variable float_cast es: {} y el seu valor: {}\\\n",
    "\\nEl tipus de la variable string_cast es: {} y el seu valor: '{}'\"\n",
    "\n",
    "print(resultat.format(type(integer), integer, type(float_cast), float_cast, type(string_cast), string_cast))\n"
   ]
  },
  {
   "cell_type": "markdown",
   "id": "6f4fe8a1",
   "metadata": {},
   "source": [
    "***\n",
    "### Tècniques amb strings\n",
    "\n",
    "Els *strings* son cadenes de text. Al declarar-les, es poden utilitzar cometes dobles (**\"**) o simples (**'**)\n",
    "\n",
    "Algunes funcions bàsiques que es poden aplicar als strings son:\n",
    "\n",
    "- **len()** - per obtenir la longitud, el nombre de caracters d'un string\n",
    "- **print()** - per imprimir un string"
   ]
  },
  {
   "cell_type": "code",
   "execution_count": null,
   "id": "c37fd105",
   "metadata": {},
   "outputs": [],
   "source": [
    "# Declaració duna variable string\n",
    "nom = \"Albert\" # també seria vàlid nom = 'Albert'\n",
    "\n",
    "# Longitud\n",
    "longitud = len(nom)\n",
    "\n",
    "# Imprimir string i longitud\n",
    "print(nom)\n",
    "print(longitud)"
   ]
  },
  {
   "cell_type": "markdown",
   "id": "a6312cb1",
   "metadata": {},
   "source": [
    "***\n",
    "#### Slicing Strings\n",
    "\n",
    "Per obtenir una part d'un string s'utilitza l'slicing. Per fer-ho, s'utilitzen els símbols **[** **]** i al seu interior, separats per dos punts (**:**) l'índex del primer caràcter que volem i el de l'últim + 1.\n",
    "\n",
    "S´ha de tenir en compte que **l'índex del primer caràcter es 0** i que el **a l'index de l'últim caràcter se li ha de sumar 1** perquè no està inclós a la selecció"
   ]
  },
  {
   "cell_type": "code",
   "execution_count": null,
   "id": "3542d61e",
   "metadata": {},
   "outputs": [],
   "source": [
    "# Obtenir els 2 primers caràcters del nom Albert\n",
    "print(\"Els 2 primers caràcters son: \" + nom[0:2])\n",
    "\n",
    "# Obtenir els 4 darrers caràcters del nom Albert\n",
    "print(\"Els 4 darrers caràcters son: \" + nom[2:6])"
   ]
  },
  {
   "cell_type": "markdown",
   "id": "24f0ad84",
   "metadata": {},
   "source": [
    "Si volem obtenir un slice a partir del primer caràcter o fins a l'últim caràcter, aquest es poden deixar buits.\n",
    "\n",
    "A continuació tenim els mateixos exemples d'abans sense indicar l'índex del primer o l'últim caràcter:"
   ]
  },
  {
   "cell_type": "code",
   "execution_count": null,
   "id": "654cc980",
   "metadata": {},
   "outputs": [],
   "source": [
    "# Obtenir els 2 primers caràcters del nom Albert\n",
    "print(\"Els 2 primers caràcters son: \" + nom[:2])\n",
    "\n",
    "# Obtenir els 4 darrers caràcters del nom Albert\n",
    "print(\"Els 4 darrers caràcters son: \" + nom[2:])"
   ]
  },
  {
   "cell_type": "markdown",
   "id": "3e79f45c",
   "metadata": {},
   "source": [
    "***\n",
    "#### Mètodes String\n",
    "\n",
    "Els strings tenen una serie de mètodes que permeten manipular-los o obtenir informació sobre ells. N'hi ha molts, aquí només anomenaré alguns:\n",
    "\n",
    "- **lower()** - passa tots els caràcters a minúscula\n",
    "- **upper()** - passa tots els caràcters a majúscula\n",
    "- **replace()** - substitueix caràcters\n",
    "- **count()** - obtenir el nombre de vegades que apareix un caràcter"
   ]
  },
  {
   "cell_type": "code",
   "execution_count": null,
   "id": "212c5a51",
   "metadata": {},
   "outputs": [],
   "source": [
    "print(\"Text a minúscula: \" + nom.lower())\n",
    "print(\"Text a majúscula: \" + nom.upper())\n",
    "print(\"Modificar string: \" + nom.replace(\"Al\", \"Ro\"))\n",
    "print(\"Nombre de vegades 'l': \" + str(nom.count(\"l\")))"
   ]
  },
  {
   "cell_type": "markdown",
   "id": "282a3440",
   "metadata": {},
   "source": [
    "Un altre mètode interessant és el mètode **split()**. Converteix una cadena de text en una llista, separant la cadena mitjançant un separador determinat. Si no s'especifica, el separador per defecte es l'espai en blanc"
   ]
  },
  {
   "cell_type": "code",
   "execution_count": null,
   "id": "c2dd0b72",
   "metadata": {},
   "outputs": [],
   "source": [
    "# Declaració de variable string\n",
    "text = \"Estudio Data Science a l'IT Academy\"\n",
    "\n",
    "# Imprimir el resultat del mètode split()\n",
    "print(text.split())"
   ]
  },
  {
   "cell_type": "markdown",
   "id": "522e70af",
   "metadata": {},
   "source": [
    "***\n",
    "### Booleans\n",
    "\n",
    "Els *booleans* representen dos valors: **True** o **False**. S'utilitzen per saber si una expressió és verdadera o falsa. Per això s'utilitzan juntament amb els *operadors condicionals*:\n",
    "\n",
    "![comparison](img/comparison.png)\n",
    "\n",
    "*Font*: https://www.w3schools.com/python/python_operators.asp"
   ]
  },
  {
   "cell_type": "code",
   "execution_count": null,
   "id": "139575fb",
   "metadata": {},
   "outputs": [],
   "source": [
    "# Exemples de Booleans\n",
    "\n",
    "print(\"5 i 4 Són iguals?\")\n",
    "print(5 == 4)\n",
    "print(\"\\n5 és més gran que 4?\")\n",
    "print(5 > 4)\n",
    "print(\"\\n5 és més petit que 4?\")\n",
    "print(5 < 4)\n",
    "print(\"\\n5 és diferent de 4\")\n",
    "print(5 != 4)"
   ]
  }
 ],
 "metadata": {
  "kernelspec": {
   "display_name": "Python 3",
   "language": "python",
   "name": "python3"
  },
  "language_info": {
   "codemirror_mode": {
    "name": "ipython",
    "version": 3
   },
   "file_extension": ".py",
   "mimetype": "text/x-python",
   "name": "python",
   "nbconvert_exporter": "python",
   "pygments_lexer": "ipython3",
   "version": "3.8.8"
  },
  "latex_envs": {
   "LaTeX_envs_menu_present": true,
   "autoclose": false,
   "autocomplete": true,
   "bibliofile": "biblio.bib",
   "cite_by": "apalike",
   "current_citInitial": 1,
   "eqLabelWithNumbers": true,
   "eqNumInitial": 1,
   "hotkeys": {
    "equation": "Ctrl-E",
    "itemize": "Ctrl-I"
   },
   "labels_anchors": false,
   "latex_user_defs": false,
   "report_style_numbering": false,
   "user_envs_cfg": false
  }
 },
 "nbformat": 4,
 "nbformat_minor": 5
}
